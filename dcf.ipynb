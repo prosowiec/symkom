{
 "cells": [
  {
   "cell_type": "code",
   "execution_count": 1,
   "metadata": {},
   "outputs": [],
   "source": [
    "import numpy as np\n",
    "import pandas as pd\n",
    "import regex as re\n",
    "from multiprocessing.pool import ThreadPool\n",
    "import random\n",
    "from scraper import StockInfo\n",
    "from dcfModel import DCF, make_simpleValuation"
   ]
  },
  {
   "cell_type": "code",
   "execution_count": null,
   "metadata": {},
   "outputs": [],
   "source": [
    "valuationInputs = {\n",
    "    1 : {\n",
    "        \"operatingMargin\" : np.array([35, 35, 37, 38, 39, 40, 40, 40, 40, 40, 40, 40]) / 100,\n",
    "        \"RevenueGrowthRate\" : np.array([15, 15, 15, 15, 15, 12.72, 10.44, 8.16, 5.88, 3.60]) / 100,\n",
    "        \"Costofcapital\" : np.array([12.21, 12.21, 12.21, 12.21, 12.21, 11.54, 10.86, 10.19, 9.52, 8.85]) / 100,\n",
    "        \"salesToCapital\" : np.array([1.15, 1.15, 1.15, 1.15, 1.15, 1.15, 1.15, 1.15, 1.15, 1.15]),\n",
    "        \"TaxRate\" : np.array([10, 10, 10, 10, 10, 10, 13, 16, 19, 22, 25, 25]) / 100,\n",
    "        \"baseRevenue\" : 14028\n",
    "    }\n",
    "} "
   ]
  },
  {
   "cell_type": "code",
   "execution_count": 2,
   "metadata": {},
   "outputs": [],
   "source": [
    "tick = StockInfo(\"NVDA\")"
   ]
  },
  {
   "cell_type": "code",
   "execution_count": 13,
   "metadata": {},
   "outputs": [
    {
     "data": {
      "text/plain": [
       "11855.0"
      ]
     },
     "execution_count": 13,
     "metadata": {},
     "output_type": "execute_result"
    }
   ],
   "source": [
    "balancesheet = tick.get_BalanceSheet()\n",
    "#Share Issued\n",
    "balancesheet[balancesheet[\"Breakdown\"] == \"Total Debt\"].iloc[:,1:2].astype(float).values[0][0]"
   ]
  }
 ],
 "metadata": {
  "kernelspec": {
   "display_name": "Python 3",
   "language": "python",
   "name": "python3"
  },
  "language_info": {
   "codemirror_mode": {
    "name": "ipython",
    "version": 3
   },
   "file_extension": ".py",
   "mimetype": "text/x-python",
   "name": "python",
   "nbconvert_exporter": "python",
   "pygments_lexer": "ipython3",
   "version": "3.10.7"
  }
 },
 "nbformat": 4,
 "nbformat_minor": 2
}
