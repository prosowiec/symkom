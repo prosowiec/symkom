{
 "cells": [
  {
   "cell_type": "code",
   "execution_count": 15,
   "metadata": {},
   "outputs": [],
   "source": [
    "import numpy as np\n",
    "import pandas as pd\n",
    "import regex as re\n",
    "from multiprocessing.pool import ThreadPool\n",
    "import random\n",
    "from scraper import StockInfo\n",
    "from dcfModel import DCF"
   ]
  },
  {
   "cell_type": "code",
   "execution_count": 2,
   "metadata": {},
   "outputs": [],
   "source": [
    "tick = StockInfo(\"NVDA\")"
   ]
  },
  {
   "cell_type": "code",
   "execution_count": 13,
   "metadata": {},
   "outputs": [
    {
     "data": {
      "text/plain": [
       "11855.0"
      ]
     },
     "execution_count": 13,
     "metadata": {},
     "output_type": "execute_result"
    }
   ],
   "source": [
    "balancesheet = tick.get_BalanceSheet()\n",
    "balancesheet[balancesheet[\"Breakdown\"] == \"Total Debt\"].iloc[:,1:2].astype(float).values[0][0]"
   ]
  },
  {
   "cell_type": "code",
   "execution_count": 16,
   "metadata": {},
   "outputs": [
    {
     "data": {
      "text/html": [
       "<div>\n",
       "<style scoped>\n",
       "    .dataframe tbody tr th:only-of-type {\n",
       "        vertical-align: middle;\n",
       "    }\n",
       "\n",
       "    .dataframe tbody tr th {\n",
       "        vertical-align: top;\n",
       "    }\n",
       "\n",
       "    .dataframe thead th {\n",
       "        text-align: right;\n",
       "    }\n",
       "</style>\n",
       "<table border=\"1\" class=\"dataframe\">\n",
       "  <thead>\n",
       "    <tr style=\"text-align: right;\">\n",
       "      <th></th>\n",
       "      <th>ticker</th>\n",
       "      <th>industry</th>\n",
       "      <th>operatingMarginStart</th>\n",
       "      <th>operatingMarginTarget</th>\n",
       "      <th>operatingMarginDistribution</th>\n",
       "      <th>operatingMarginGrowthTrend</th>\n",
       "      <th>RevenueGrowthRateStart</th>\n",
       "      <th>RevenueGrowthRateEnd</th>\n",
       "      <th>RevenueGrowthRateTerminalValue</th>\n",
       "      <th>RevenueGrowthRateDistribution</th>\n",
       "      <th>RevenueGrowthRateGrowthTrend</th>\n",
       "      <th>CostofcapitalStart</th>\n",
       "      <th>CostofcapitalEnd</th>\n",
       "      <th>CostofcapitalTrend</th>\n",
       "      <th>CostofcapitalDistribution</th>\n",
       "      <th>salesToCapital</th>\n",
       "      <th>salesToCapitalDistribution</th>\n",
       "      <th>TaxRateStart</th>\n",
       "      <th>TaxRateEnd</th>\n",
       "      <th>TaxRateEndDistribution</th>\n",
       "    </tr>\n",
       "  </thead>\n",
       "  <tbody>\n",
       "    <tr>\n",
       "      <th>0</th>\n",
       "      <td>NVDA</td>\n",
       "      <td>Semiconductor</td>\n",
       "      <td>20</td>\n",
       "      <td>40</td>\n",
       "      <td>normal</td>\n",
       "      <td>linear</td>\n",
       "      <td>34</td>\n",
       "      <td>10</td>\n",
       "      <td>6</td>\n",
       "      <td>uniform</td>\n",
       "      <td>cyclical</td>\n",
       "      <td>12.21</td>\n",
       "      <td>8.4</td>\n",
       "      <td>linear</td>\n",
       "      <td>triangular</td>\n",
       "      <td>1.15</td>\n",
       "      <td>normal</td>\n",
       "      <td>10</td>\n",
       "      <td>20</td>\n",
       "      <td>uniform</td>\n",
       "    </tr>\n",
       "  </tbody>\n",
       "</table>\n",
       "</div>"
      ],
      "text/plain": [
       "  ticker       industry  operatingMarginStart  operatingMarginTarget  \\\n",
       "0   NVDA  Semiconductor                    20                     40   \n",
       "\n",
       "  operatingMarginDistribution operatingMarginGrowthTrend  \\\n",
       "0                      normal                     linear   \n",
       "\n",
       "   RevenueGrowthRateStart  RevenueGrowthRateEnd  \\\n",
       "0                      34                    10   \n",
       "\n",
       "   RevenueGrowthRateTerminalValue RevenueGrowthRateDistribution  \\\n",
       "0                               6                       uniform   \n",
       "\n",
       "  RevenueGrowthRateGrowthTrend  CostofcapitalStart  CostofcapitalEnd  \\\n",
       "0                     cyclical               12.21               8.4   \n",
       "\n",
       "  CostofcapitalTrend CostofcapitalDistribution  salesToCapital  \\\n",
       "0             linear                triangular            1.15   \n",
       "\n",
       "  salesToCapitalDistribution  TaxRateStart  TaxRateEnd TaxRateEndDistribution  \n",
       "0                     normal            10          20                uniform  "
      ]
     },
     "execution_count": 16,
     "metadata": {},
     "output_type": "execute_result"
    }
   ],
   "source": [
    "df = pd.read_csv('csv/tickers.csv')\n",
    "df"
   ]
  }
 ],
 "metadata": {
  "kernelspec": {
   "display_name": "Python 3",
   "language": "python",
   "name": "python3"
  },
  "language_info": {
   "codemirror_mode": {
    "name": "ipython",
    "version": 3
   },
   "file_extension": ".py",
   "mimetype": "text/x-python",
   "name": "python",
   "nbconvert_exporter": "python",
   "pygments_lexer": "ipython3",
   "version": "3.10.7"
  }
 },
 "nbformat": 4,
 "nbformat_minor": 2
}
