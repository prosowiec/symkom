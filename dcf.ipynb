{
 "cells": [
  {
   "cell_type": "code",
   "execution_count": 1,
   "metadata": {},
   "outputs": [],
   "source": [
    "import numpy as np\n",
    "import pandas as pd\n",
    "import regex as re\n",
    "from multiprocessing.pool import ThreadPool\n",
    "import random\n",
    "from scraper import StockInfo"
   ]
  },
  {
   "cell_type": "code",
   "execution_count": 24,
   "metadata": {},
   "outputs": [],
   "source": [
    "ticker = \"NVDA\"\n",
    "operatingMargin = np.array([35, 35, 37, 38, 39, 40, 40, 40, 40, 40, 40, 40]) / 100\n",
    "\n",
    "RevenueGrowthRate = np.array([15, 15, 15, 15, 15, 12.72, 10.44, 8.16, 5.88, 3.60]) / 100\n",
    "Costofcapital = np.array([12.21, 12.21, 12.21, 12.21, 12.21, 11.54, 10.86, 10.19, 9.52, 8.85]) / 100\n",
    "TaxRate = np.array([10, 10, 10, 10, 10, 10, 13, 16, 19, 22, 25, 25]) / 100\n",
    "salesToCapital = np.array([1.15, 1.15, 1.15, 1.15, 1.15, 1.15, 1.15, 1.15, 1.15, 1.15])\n",
    "forecastYears = 10\n",
    "baseRevenue = 14028"
   ]
  },
  {
   "cell_type": "code",
   "execution_count": 30,
   "metadata": {},
   "outputs": [
    {
     "data": {
      "text/plain": [
       "array([1.15, 1.15, 1.15, 1.15, 1.15, 1.15, 1.15, 1.15, 1.15, 1.15])"
      ]
     },
     "execution_count": 30,
     "metadata": {},
     "output_type": "execute_result"
    }
   ],
   "source": [
    "salesToCapital"
   ]
  },
  {
   "cell_type": "code",
   "execution_count": 59,
   "metadata": {},
   "outputs": [],
   "source": [
    "class DCF:\n",
    "    def __init__(self, ticker, operatingMargin, RevenueGrowthRate, TaxRate, Costofcapital, \n",
    "                 salesToCapital, baseRevenue, forecastYears = 10) -> None:\n",
    "        self.ticker = ticker\n",
    "        self.operatingMargin = operatingMargin\n",
    "        self.RevenueGrowthRate = RevenueGrowthRate\n",
    "        self.Costofcapital = Costofcapital\n",
    "        self.TaxRate = TaxRate\n",
    "        self.forecastYears = forecastYears\n",
    "        self.baseRevenue = baseRevenue\n",
    "        self.salesToCapital = salesToCapital\n",
    "        \n",
    "        self.CumulatedDiscountFactor = np.array([])\n",
    "        self.OperatingIncomeForecast = np.array([])\n",
    "        self.RevenueForecast = np.array([])\n",
    "        self.EBITForecast = np.array([])\n",
    "        self.ReinvestmentsForecast = np.array([])\n",
    "        self.FCFF = np.array([])\n",
    "        self.PV = np.array([])\n",
    "    \n",
    "    def make_CumulatedDiscountFactor(self):\n",
    "        for i in range(self.forecastYears):\n",
    "            if i == 0:\n",
    "                self.CumulatedDiscountFactor = np.append(self.CumulatedDiscountFactor, 1 / (1 + self.Costofcapital[i]))\n",
    "            else:\n",
    "                self.CumulatedDiscountFactor = np.append(self.CumulatedDiscountFactor, self.Costofcapital[i - 1] * 1 / (1 + self.Costofcapital[i]))\n",
    "                \n",
    "        return self.CumulatedDiscountFactor\n",
    "    \n",
    "    def make_RevenueForecast(self):\n",
    "        for i in range(self.forecastYears):\n",
    "            if i == 0:\n",
    "                self.RevenueForecast = np.append(self.RevenueForecast, self.baseRevenue * (self.RevenueGrowthRate[i] + 1))\n",
    "            else:\n",
    "                self.RevenueForecast = np.append(self.RevenueForecast, self.RevenueForecast[i - 1] * (self.RevenueGrowthRate[i] + 1))\n",
    "\n",
    "        return self.RevenueForecast\n",
    "    \n",
    "    def make_OperatingIncomeForecast(self):\n",
    "        if self.RevenueForecast.size <= 0:\n",
    "            self.make_RevenueForecast()\n",
    "        \n",
    "        for i in range(self.forecastYears):\n",
    "            self.OperatingIncomeForecast = np.append(self.OperatingIncomeForecast, self.operatingMargin[i] * self.RevenueForecast[i])\n",
    "\n",
    "        return self.OperatingIncomeForecast\n",
    "    \n",
    "    def make_EBIT(self):\n",
    "        if self.OperatingIncomeForecast.size <= 0:\n",
    "            self.make_OperatingIncomeForecast()\n",
    "\n",
    "        for i in range(self.forecastYears):\n",
    "            self.EBITForecast = np.append(self.EBITForecast, self.OperatingIncomeForecast[i] * (1 - self.TaxRate[i]))    \n",
    "        \n",
    "        return self.EBITForecast\n",
    "    \n",
    "    def make_ReinvestmentsForecast(self):\n",
    "        if self.RevenueForecast.size <= 0:\n",
    "            self.make_RevenueForecast()\n",
    "\n",
    "        for i in range(self.forecastYears):\n",
    "            if i == 0:\n",
    "                self.ReinvestmentsForecast = np.append(self.ReinvestmentsForecast, (self.RevenueForecast[i] - self.baseRevenue) / self.salesToCapital[i])   \n",
    "            else:\n",
    "                self.ReinvestmentsForecast = np.append(self.ReinvestmentsForecast, (self.RevenueForecast[i] - self.RevenueForecast[i - 1]) / self.salesToCapital[i]) \n",
    "        \n",
    "        return self.ReinvestmentsForecast\n",
    "    \n",
    "    def make_FCFF(self):\n",
    "        if self.EBITForecast.size <= 0 or self.RevenueForecast.size <= 0:\n",
    "            self.make_ReinvestmentsForecast()\n",
    "            self.make_EBIT()\n",
    "            \n",
    "        for i in range(self.forecastYears):\n",
    "            self.FCFF = np.append(self.FCFF, self.EBITForecast[i] - self.ReinvestmentsForecast[i])\n",
    "        \n",
    "        return self.FCFF\n",
    "    \n",
    "    def make_PV(self):\n",
    "        if self.FCFF.size <= 0 or self.CumulatedDiscountFactor.size <= 0:\n",
    "            self.make_FCFF()\n",
    "            self.make_CumulatedDiscountFactor()\n",
    "        \n",
    "        for i in range(self.forecastYears):\n",
    "            self.PV = np.append(self.PV, self.FCFF[i] * self.CumulatedDiscountFactor[i])\n",
    "\n",
    "        return self.PV"
   ]
  },
  {
   "cell_type": "code",
   "execution_count": 60,
   "metadata": {},
   "outputs": [
    {
     "data": {
      "text/plain": [
       "array([2898.05175079,  406.92993659,  509.75687852,  610.24819488,\n",
       "        729.41737637,  911.72061082,  971.84470824, 1012.43711143,\n",
       "       1031.86944664, 1027.01478967])"
      ]
     },
     "execution_count": 60,
     "metadata": {},
     "output_type": "execute_result"
    }
   ],
   "source": [
    "valuation = DCF(ticker, operatingMargin, RevenueGrowthRate, TaxRate, Costofcapital, salesToCapital, baseRevenue, forecastYears)\n",
    "valuation.make_PV()"
   ]
  },
  {
   "cell_type": "code",
   "execution_count": 27,
   "metadata": {},
   "outputs": [
    {
     "ename": "AttributeError",
     "evalue": "'StockInfo' object has no attribute 'make_ReinvestmentsForecast'",
     "output_type": "error",
     "traceback": [
      "\u001b[1;31m---------------------------------------------------------------------------\u001b[0m",
      "\u001b[1;31mAttributeError\u001b[0m                            Traceback (most recent call last)",
      "\u001b[1;32mc:\\programowanie\\symkom\\dcf.ipynb Komórka 7\u001b[0m line \u001b[0;36m2\n\u001b[0;32m      <a href='vscode-notebook-cell:/c%3A/programowanie/symkom/dcf.ipynb#W2sZmlsZQ%3D%3D?line=0'>1</a>\u001b[0m tick \u001b[39m=\u001b[39m StockInfo(\u001b[39m\"\u001b[39m\u001b[39mORCL\u001b[39m\u001b[39m\"\u001b[39m)\n\u001b[1;32m----> <a href='vscode-notebook-cell:/c%3A/programowanie/symkom/dcf.ipynb#W2sZmlsZQ%3D%3D?line=1'>2</a>\u001b[0m cash \u001b[39m=\u001b[39m tick\u001b[39m.\u001b[39;49mmake_ReinvestmentsForecast()\n\u001b[0;32m      <a href='vscode-notebook-cell:/c%3A/programowanie/symkom/dcf.ipynb#W2sZmlsZQ%3D%3D?line=2'>3</a>\u001b[0m cash\n",
      "\u001b[1;31mAttributeError\u001b[0m: 'StockInfo' object has no attribute 'make_ReinvestmentsForecast'"
     ]
    }
   ],
   "source": [
    "tick = StockInfo(\"ORCL\")\n",
    "cash = tick.get_BalanceSheet()\n",
    "cash"
   ]
  }
 ],
 "metadata": {
  "kernelspec": {
   "display_name": "Python 3",
   "language": "python",
   "name": "python3"
  },
  "language_info": {
   "codemirror_mode": {
    "name": "ipython",
    "version": 3
   },
   "file_extension": ".py",
   "mimetype": "text/x-python",
   "name": "python",
   "nbconvert_exporter": "python",
   "pygments_lexer": "ipython3",
   "version": "3.10.7"
  }
 },
 "nbformat": 4,
 "nbformat_minor": 2
}
