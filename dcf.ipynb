{
 "cells": [
  {
   "cell_type": "code",
   "execution_count": 1,
   "metadata": {},
   "outputs": [],
   "source": [
    "import numpy as np\n",
    "import pandas as pd\n",
    "import regex as re\n",
    "from multiprocessing.pool import ThreadPool\n",
    "import random\n",
    "from scraper import StockInfo\n",
    "from dcfModel import DCF"
   ]
  },
  {
   "cell_type": "code",
   "execution_count": 2,
   "metadata": {},
   "outputs": [],
   "source": [
    "tick = StockInfo(\"NVDA\")"
   ]
  },
  {
   "cell_type": "code",
   "execution_count": 3,
   "metadata": {},
   "outputs": [],
   "source": [
    "balancesheet = tick.get_BalanceSheet()"
   ]
  },
  {
   "cell_type": "code",
   "execution_count": 2,
   "metadata": {},
   "outputs": [
    {
     "data": {
      "text/html": [
       "<div>\n",
       "<style scoped>\n",
       "    .dataframe tbody tr th:only-of-type {\n",
       "        vertical-align: middle;\n",
       "    }\n",
       "\n",
       "    .dataframe tbody tr th {\n",
       "        vertical-align: top;\n",
       "    }\n",
       "\n",
       "    .dataframe thead th {\n",
       "        text-align: right;\n",
       "    }\n",
       "</style>\n",
       "<table border=\"1\" class=\"dataframe\">\n",
       "  <thead>\n",
       "    <tr style=\"text-align: right;\">\n",
       "      <th></th>\n",
       "      <th>ticker</th>\n",
       "      <th>industry</th>\n",
       "      <th>operatingMarginStart</th>\n",
       "      <th>operatingMarginTarget</th>\n",
       "      <th>operatingMarginDistribution</th>\n",
       "      <th>operatingMarginGrowthTrend</th>\n",
       "      <th>RevenueGrowthRateStart</th>\n",
       "      <th>RevenueGrowthRateEnd</th>\n",
       "      <th>RevenueGrowthRateTerminalValue</th>\n",
       "      <th>RevenueGrowthRateDistribution</th>\n",
       "      <th>RevenueGrowthRateGrowthTrend</th>\n",
       "      <th>CostofcapitalStart</th>\n",
       "      <th>CostofcapitalEnd</th>\n",
       "      <th>CostofcapitalTrend</th>\n",
       "      <th>CostofcapitalDistribution</th>\n",
       "      <th>salesToCapital</th>\n",
       "      <th>salesToCapitalDistribution</th>\n",
       "      <th>TaxRateStart</th>\n",
       "      <th>TaxRateEnd</th>\n",
       "      <th>TaxRateEndDistribution</th>\n",
       "    </tr>\n",
       "  </thead>\n",
       "  <tbody>\n",
       "    <tr>\n",
       "      <th>0</th>\n",
       "      <td>NVDA</td>\n",
       "      <td>Semiconductor</td>\n",
       "      <td>20</td>\n",
       "      <td>40</td>\n",
       "      <td>normal</td>\n",
       "      <td>linear</td>\n",
       "      <td>34</td>\n",
       "      <td>10</td>\n",
       "      <td>6</td>\n",
       "      <td>uniform</td>\n",
       "      <td>cyclical</td>\n",
       "      <td>12.21</td>\n",
       "      <td>8.4</td>\n",
       "      <td>linear</td>\n",
       "      <td>triangular</td>\n",
       "      <td>1.15</td>\n",
       "      <td>normal</td>\n",
       "      <td>10</td>\n",
       "      <td>20</td>\n",
       "      <td>uniform</td>\n",
       "    </tr>\n",
       "  </tbody>\n",
       "</table>\n",
       "</div>"
      ],
      "text/plain": [
       "  ticker       industry  operatingMarginStart  operatingMarginTarget  \\\n",
       "0   NVDA  Semiconductor                    20                     40   \n",
       "\n",
       "  operatingMarginDistribution operatingMarginGrowthTrend  \\\n",
       "0                      normal                     linear   \n",
       "\n",
       "   RevenueGrowthRateStart  RevenueGrowthRateEnd  \\\n",
       "0                      34                    10   \n",
       "\n",
       "   RevenueGrowthRateTerminalValue RevenueGrowthRateDistribution  \\\n",
       "0                               6                       uniform   \n",
       "\n",
       "  RevenueGrowthRateGrowthTrend  CostofcapitalStart  CostofcapitalEnd  \\\n",
       "0                     cyclical               12.21               8.4   \n",
       "\n",
       "  CostofcapitalTrend CostofcapitalDistribution  salesToCapital  \\\n",
       "0             linear                triangular            1.15   \n",
       "\n",
       "  salesToCapitalDistribution  TaxRateStart  TaxRateEnd TaxRateEndDistribution  \n",
       "0                     normal            10          20                uniform  "
      ]
     },
     "execution_count": 2,
     "metadata": {},
     "output_type": "execute_result"
    }
   ],
   "source": [
    "df = pd.read_csv('csv/tickers.csv')\n",
    "df"
   ]
  },
  {
   "cell_type": "code",
   "execution_count": 13,
   "metadata": {},
   "outputs": [
    {
     "data": {
      "text/plain": [
       "{'NVDA': {'x': [13.899846664576081,\n",
       "   36.98546282306804,\n",
       "   60.07107898156,\n",
       "   83.15669514005197,\n",
       "   106.24231129854391,\n",
       "   129.32792745703586,\n",
       "   152.41354361552783,\n",
       "   175.49915977401977,\n",
       "   198.58477593251175,\n",
       "   221.6703920910037,\n",
       "   244.75600824949566,\n",
       "   267.84162440798764,\n",
       "   290.92724056647955,\n",
       "   314.0128567249715,\n",
       "   337.0984728834635,\n",
       "   360.1840890419554,\n",
       "   383.26970520044745,\n",
       "   406.35532135893936,\n",
       "   429.44093751743134,\n",
       "   452.5265536759233,\n",
       "   475.6121698344152,\n",
       "   498.6977859929072,\n",
       "   521.7834021513992,\n",
       "   544.8690183098911,\n",
       "   567.9546344683831,\n",
       "   591.040250626875,\n",
       "   614.125866785367,\n",
       "   637.211482943859,\n",
       "   660.2970991023509,\n",
       "   683.3827152608428,\n",
       "   706.4683314193348,\n",
       "   729.5539475778269],\n",
       "  'y': [0.001962583240345076,\n",
       "   0.0014485733440642227,\n",
       "   0.002056039585123413,\n",
       "   0.0024765931366259293,\n",
       "   0.003037331205295951,\n",
       "   0.003270972067241795,\n",
       "   0.002850418515739279,\n",
       "   0.002943874860517612,\n",
       "   0.0034111565844092964,\n",
       "   0.0033177002396309638,\n",
       "   0.002710233998571773,\n",
       "   0.002196224102290917,\n",
       "   0.002476593136625928,\n",
       "   0.0016354860336208995,\n",
       "   0.0013551169992858851,\n",
       "   0.001261660654507548,\n",
       "   0.0012149324821183797,\n",
       "   0.000841107103005032,\n",
       "   0.0006074662410591912,\n",
       "   0.0007943789306158635,\n",
       "   0.0002803690343350107,\n",
       "   0.0003270972067241799,\n",
       "   0.00018691268955667333,\n",
       "   9.345634477833711e-05,\n",
       "   0.0001401845171675057,\n",
       "   0.00014018451716750499,\n",
       "   4.672817238916856e-05,\n",
       "   9.345634477833711e-05,\n",
       "   4.672817238916833e-05,\n",
       "   4.672817238916856e-05,\n",
       "   0.0,\n",
       "   4.672817238916856e-05]}}"
      ]
     },
     "execution_count": 13,
     "metadata": {},
     "output_type": "execute_result"
    }
   ],
   "source": [
    "import json\n",
    " \n",
    "# Opening JSON file\n",
    "f = open('valJSON.json')\n",
    " \n",
    "# returns JSON object as \n",
    "# a dictionary\n",
    "data = json.loads(json.loads(f.read()))\n",
    "data"
   ]
  }
 ],
 "metadata": {
  "kernelspec": {
   "display_name": "Python 3",
   "language": "python",
   "name": "python3"
  },
  "language_info": {
   "codemirror_mode": {
    "name": "ipython",
    "version": 3
   },
   "file_extension": ".py",
   "mimetype": "text/x-python",
   "name": "python",
   "nbconvert_exporter": "python",
   "pygments_lexer": "ipython3",
   "version": "3.10.7"
  }
 },
 "nbformat": 4,
 "nbformat_minor": 2
}
